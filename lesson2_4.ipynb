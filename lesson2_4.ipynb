{
 "cells": [
  {
   "cell_type": "code",
   "execution_count": 7,
   "metadata": {},
   "outputs": [
    {
     "name": "stdout",
     "output_type": "stream",
     "text": [
      "獎金：1000元\n"
     ]
    }
   ],
   "source": [
    "#巢狀判斷\n",
    "#國文100分,同時數學100分,獎金1000\n",
    "#國文100分,或著數學100分,獎金500\n",
    "#不然0\n",
    "chines=int(input('請輸入國文分數'))\n",
    "math=int(input('請輸入數學分數'))\n",
    "if chines==100:\n",
    "    if math== 100:\n",
    "        bonus=1000\n",
    "    else:\n",
    "        bonus=500\n",
    "elif math==100:\n",
    "    bonus=500\n",
    "else:\n",
    "    bonus=0\n",
    "print(f'獎金：{bonus}元')"
   ]
  },
  {
   "cell_type": "code",
   "execution_count": null,
   "metadata": {},
   "outputs": [
    {
     "name": "stdout",
     "output_type": "stream",
     "text": [
      "獎金1000元\n"
     ]
    }
   ],
   "source": [
    "#邏輯運算子\n",
    "#國文100分,同時數學100分,獎金1000\n",
    "#國文100分,或著數學100分,獎金500\n",
    "#不然0\n",
    "chines=int(input('請輸入國文分數'))\n",
    "math=int(input('請輸入數學分數'))\n",
    "if chines==100 and math==100:\n",
    "    bonus=1000\n",
    "elif chines==100 or math==100:\n",
    "    bonus=500\n",
    "else:\n",
    "    bonus=0\n",
    "print(f'獎金:{bonus}元')"
   ]
  },
  {
   "cell_type": "code",
   "execution_count": 21,
   "metadata": {},
   "outputs": [
    {
     "name": "stdout",
     "output_type": "stream",
     "text": [
      "BMI=34.17488999957281\n",
      "過重\n"
     ]
    }
   ],
   "source": [
    "身高=eval(input('身高(cm)'))\n",
    "體重=eval(input('體重(kg)'))\n",
    "BMI=(體重/((身高/100)**2))\n",
    "print(f'BMI={BMI}')\n",
    "if BMI>24:\n",
    "    print('過重')\n",
    "\n"
   ]
  },
  {
   "cell_type": "markdown",
   "metadata": {},
   "source": []
  }
 ],
 "metadata": {
  "kernelspec": {
   "display_name": "base",
   "language": "python",
   "name": "python3"
  },
  "language_info": {
   "codemirror_mode": {
    "name": "ipython",
    "version": 3
   },
   "file_extension": ".py",
   "mimetype": "text/x-python",
   "name": "python",
   "nbconvert_exporter": "python",
   "pygments_lexer": "ipython3",
   "version": "3.12.2"
  }
 },
 "nbformat": 4,
 "nbformat_minor": 2
}
