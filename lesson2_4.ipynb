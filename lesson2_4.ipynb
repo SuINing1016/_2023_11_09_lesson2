{
 "cells": [
  {
   "cell_type": "code",
   "execution_count": 7,
   "metadata": {},
   "outputs": [
    {
     "name": "stdout",
     "output_type": "stream",
     "text": [
      "獎金：1000元\n"
     ]
    }
   ],
   "source": [
    "#巢狀判斷\n",
    "#國文100分,同時數學100分,獎金1000\n",
    "#國文100分,或著數學100分,獎金500\n",
    "#不然0\n",
    "chines=int(input('請輸入國文分數'))\n",
    "math=int(input('請輸入數學分數'))\n",
    "if chines==100:\n",
    "    if math== 100:\n",
    "        bonus=1000\n",
    "    else:\n",
    "        bonus=500\n",
    "elif math==100:\n",
    "    bonus=500\n",
    "else:\n",
    "    bonus=0\n",
    "print(f'獎金：{bonus}元')"
   ]
  },
  {
   "cell_type": "code",
   "execution_count": 8,
   "metadata": {},
   "outputs": [
    {
     "ename": "SyntaxError",
     "evalue": "invalid syntax (950069419.py, line 3)",
     "output_type": "error",
     "traceback": [
      "\u001b[0;36m  Cell \u001b[0;32mIn[8], line 3\u001b[0;36m\u001b[0m\n\u001b[0;31m    BMI=體重/(身高/100)**\u001b[0m\n\u001b[0m                     ^\u001b[0m\n\u001b[0;31mSyntaxError\u001b[0m\u001b[0;31m:\u001b[0m invalid syntax\n"
     ]
    }
   ],
   "source": [
    "身高=input('身高(cm)')\n",
    "體重=input('體重（kg)')\n",
    "BMI=體重/(身高/100)**\n"
   ]
  }
 ],
 "metadata": {
  "kernelspec": {
   "display_name": "base",
   "language": "python",
   "name": "python3"
  },
  "language_info": {
   "codemirror_mode": {
    "name": "ipython",
    "version": 3
   },
   "file_extension": ".py",
   "mimetype": "text/x-python",
   "name": "python",
   "nbconvert_exporter": "python",
   "pygments_lexer": "ipython3",
   "version": "3.12.2"
  }
 },
 "nbformat": 4,
 "nbformat_minor": 2
}
