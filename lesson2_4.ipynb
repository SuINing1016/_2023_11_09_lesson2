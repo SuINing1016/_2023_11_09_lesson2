{
 "cells": [
  {
   "cell_type": "code",
   "execution_count": 7,
   "metadata": {},
   "outputs": [
    {
     "name": "stdout",
     "output_type": "stream",
     "text": [
      "獎金：1000元\n"
     ]
    }
   ],
   "source": [
    "#巢狀判斷\n",
    "#國文100分,同時數學100分,獎金1000\n",
    "#國文100分,或著數學100分,獎金500\n",
    "#不然0\n",
    "chines=int(input('請輸入國文分數'))\n",
    "math=int(input('請輸入數學分數'))\n",
    "if chines==100:\n",
    "    if math== 100:\n",
    "        bonus=1000\n",
    "    else:\n",
    "        bonus=500\n",
    "elif math==100:\n",
    "    bonus=500\n",
    "else:\n",
    "    bonus=0\n",
    "print(f'獎金：{bonus}元')"
   ]
  },
  {
   "cell_type": "code",
   "execution_count": null,
   "metadata": {},
   "outputs": [
    {
     "name": "stdout",
     "output_type": "stream",
     "text": [
      "獎金1000元\n"
     ]
    }
   ],
   "source": [
    "#邏輯運算子\n",
    "#國文100分,同時數學100分,獎金1000\n",
    "#國文100分,或著數學100分,獎金500\n",
    "#不然0\n",
    "chines=int(input('請輸入國文分數'))\n",
    "math=int(input('請輸入數學分數'))\n",
    "if chines==100 and math==100:\n",
    "    bonus=1000\n",
    "elif chines==100 or math==100:\n",
    "    bonus=500\n",
    "else:\n",
    "    bonus=0\n",
    "print(f'獎金:{bonus}元')"
   ]
  },
  {
   "cell_type": "code",
   "execution_count": 14,
   "metadata": {},
   "outputs": [
    {
     "name": "stdout",
     "output_type": "stream",
     "text": [
      "身高=153cm\n",
      "體重=45kg\n",
      "BMI=19.22\n",
      "肥胖程度:正常\n",
      "計算結束\n"
     ]
    }
   ],
   "source": [
    "#請輸入身高(cm)\n",
    "#請輸入體重(kg)\n",
    "#計算BMI，衡量肥胖程度\n",
    "try:\n",
    "    身高=eval(input('身高(cm)'))\n",
    "    體重=eval(input('體重(kg)'))\n",
    "except:\n",
    "    print('輸入錯誤')\n",
    "print(f'身高={身高}cm')\n",
    "print(f'體重={體重}kg')\n",
    "BMI=(體重/((身高/100)**2))\n",
    "print(f'BMI={BMI:.2f}')\n",
    "if BMI>=35:\n",
    "    print('肥胖程度:重度肥胖')\n",
    "elif BMI>=30:\n",
    "    print('肥胖程度:中度肥胖')\n",
    "elif BMI>=27:\n",
    "    print('肥胖程度:輕度肥胖')\n",
    "elif BMI>=24:\n",
    "    print('肥胖程度:過重')\n",
    "elif BMI>=18.5:\n",
    "    print('肥胖程度:正常')\n",
    "else:\n",
    "    print('肥胖程度:過輕')\n",
    "print('計算結束')\n",
    "\n"
   ]
  },
  {
   "cell_type": "markdown",
   "metadata": {},
   "source": []
  }
 ],
 "metadata": {
  "kernelspec": {
   "display_name": "base",
   "language": "python",
   "name": "python3"
  },
  "language_info": {
   "codemirror_mode": {
    "name": "ipython",
    "version": 3
   },
   "file_extension": ".py",
   "mimetype": "text/x-python",
   "name": "python",
   "nbconvert_exporter": "python",
   "pygments_lexer": "ipython3",
   "version": "3.12.2"
  }
 },
 "nbformat": 4,
 "nbformat_minor": 2
}
